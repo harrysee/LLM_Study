{
 "cells": [
  {
   "cell_type": "markdown",
   "id": "56b47285",
   "metadata": {},
   "source": [
    "#  LangChain의 RAG 콤포넌트 \n",
    "- 문서 로더 (Document Loader) \n",
    "\n",
    "### **학습 목표:**  문서 로더와 텍스트 분할기를 적절히 활용할 수 있다\n",
    "\n",
    "### **실습 자료**: \n",
    "\n",
    "- data/transformer.pdf\n",
    "- data/kakao_chat.json\n",
    "- data/kakao_chat.jsonl\n",
    "- data/kbo_teams_2023.csv\n",
    "- data/리비안_KR.txt\n",
    "- data/테슬라_KR.txt\n",
    "- articles/notionai.pdf\n",
    "\n",
    "---"
   ]
  },
  {
   "cell_type": "markdown",
   "id": "b3f4874c",
   "metadata": {},
   "source": [
    "# 환경 설정 및 준비"
   ]
  },
  {
   "cell_type": "markdown",
   "id": "9e15f76c",
   "metadata": {},
   "source": [
    "`(1) Env 환경변수`"
   ]
  },
  {
   "cell_type": "code",
   "execution_count": null,
   "id": "3f6d77f8",
   "metadata": {},
   "outputs": [],
   "source": [
    "from dotenv import load_dotenv\n",
    "load_dotenv()"
   ]
  },
  {
   "cell_type": "markdown",
   "id": "0800c924",
   "metadata": {},
   "source": [
    "`(2) 기본 라이브러리`"
   ]
  },
  {
   "cell_type": "code",
   "execution_count": 2,
   "id": "bca641c2",
   "metadata": {},
   "outputs": [],
   "source": [
    "import os\n",
    "from glob import glob\n",
    "\n",
    "from pprint import pprint\n",
    "import json"
   ]
  },
  {
   "cell_type": "markdown",
   "metadata": {},
   "source": [
    "# 다양한 문서 형식 처리하기\n",
    "\n",
    "- 역할: Document Loader는 다양한 소스에서 문서를 로드\n",
    "- 구현: \n",
    "    - Document Loader는 BaseLoader 인터페이스를 통해서 구현\n",
    "    - `.load()` 또는 `.lazy_load()` 메서드를 통해 동일한 방식으로 호출 \n",
    "    - 대용량 데이터셋의 경우 메모리 효율을 위해 `.lazy_load()`를 사용하는 것을 권장 \n",
    "- 종류:\n",
    "    - PDF 파일 로더\n",
    "    - 웹 페이지 로더 \n",
    "    - CSV 데이터 로더\n",
    "    - 디렉토리 로더\n",
    "    - HTML 데이터 로더\n",
    "    - JSON 데이터 로더\n",
    "    - Markdown 데이터 로더\n",
    "    - Microsoft Office 데이터 로더"
   ]
  },
  {
   "cell_type": "markdown",
   "id": "16ca0e62",
   "metadata": {},
   "source": [
    "### 1. **PDF 파일 로더**\n",
    "\n",
    "- uv add pypdf 또는 pip install pypdf\n"
   ]
  },
  {
   "cell_type": "code",
   "execution_count": null,
   "id": "950fbe18",
   "metadata": {},
   "outputs": [],
   "source": [
    "from langchain_community.document_loaders import PyPDFLoader\n",
    "\n",
    "# PDF 로더 초기화\n",
    "pdf_loader = PyPDFLoader('./data/transformer.pdf')\n",
    "\n",
    "# 동기 로딩\n",
    "pdf_docs = pdf_loader.load()\n",
    "print(f'PDF 문서 개수: {len(pdf_docs)}')"
   ]
  },
  {
   "cell_type": "code",
   "execution_count": null,
   "id": "33b1cfef",
   "metadata": {},
   "outputs": [],
   "source": [
    "# 첫 번째 문서의 내용 출력\n",
    "print(pdf_docs[0].page_content)"
   ]
  },
  {
   "cell_type": "code",
   "execution_count": null,
   "id": "bcf6cc1b",
   "metadata": {},
   "outputs": [],
   "source": [
    "# 첫 번째 문서의 메타데이터 출력\n",
    "print(pdf_docs[0].metadata)"
   ]
  },
  {
   "cell_type": "code",
   "execution_count": null,
   "id": "e7b62e94",
   "metadata": {},
   "outputs": [],
   "source": [
    "# 비동기 로딩 (대용량 파일에 권장)\n",
    "async for page in pdf_loader.alazy_load():\n",
    "    # 페이지별 처리\n",
    "    print(page.metadata)  # 메타데이터 출력\n",
    "    print(page.page_content) # 페이지 내용 출력\n",
    "    print(\"-\"*80)"
   ]
  },
  {
   "cell_type": "markdown",
   "id": "71dccd7b",
   "metadata": {},
   "source": [
    "### 2. **웹 문서 로더**\n"
   ]
  },
  {
   "cell_type": "code",
   "execution_count": null,
   "id": "7e8732bb",
   "metadata": {},
   "outputs": [],
   "source": [
    "from langchain_community.document_loaders import WebBaseLoader\n",
    "\n",
    "# 기본적인 텍스트 추출\n",
    "web_loader = WebBaseLoader(\n",
    "    web_paths=[\n",
    "        \"https://python.langchain.com/\", \n",
    "        \"https://js.langchain.com/\",\n",
    "        ],\n",
    "    )\n",
    "\n",
    "# 동기 로딩\n",
    "web_docs = web_loader.load()\n",
    "\n",
    "len(web_docs)"
   ]
  },
  {
   "cell_type": "code",
   "execution_count": null,
   "id": "fc66a6c3",
   "metadata": {},
   "outputs": [],
   "source": [
    "web_docs[0].metadata"
   ]
  },
  {
   "cell_type": "code",
   "execution_count": null,
   "id": "89fc4585",
   "metadata": {},
   "outputs": [],
   "source": [
    "print(web_docs[0].page_content)"
   ]
  },
  {
   "cell_type": "code",
   "execution_count": null,
   "id": "f20379cc",
   "metadata": {},
   "outputs": [],
   "source": [
    "# 특정 HTML 요소만 파싱하고 싶을 경우 (bs4 활용)\n",
    "import bs4\n",
    "\n",
    "web_loader = WebBaseLoader(\n",
    "    web_paths=[\"https://python.langchain.com/\"],\n",
    "    bs_kwargs={\n",
    "        \"parse_only\": bs4.SoupStrainer(class_=\"theme-doc-markdown markdown\"),\n",
    "    },\n",
    "    bs_get_text_kwargs={\n",
    "        \"separator\": \" | \",    # 구분자\n",
    "        \"strip\": True          # 공백 제거\n",
    "    }\n",
    ")\n",
    "\n",
    "# 동기 로딩\n",
    "web_docs = web_loader.load()\n",
    "\n",
    "len(web_docs)"
   ]
  },
  {
   "cell_type": "code",
   "execution_count": null,
   "id": "092f815c",
   "metadata": {},
   "outputs": [],
   "source": [
    "print(web_docs[0].page_content)"
   ]
  },
  {
   "cell_type": "markdown",
   "id": "ed21be88",
   "metadata": {},
   "source": [
    "### 3. **JSON 파일 로더**\n",
    "\n",
    "- 설치: pip install jq 또는 uv add jq\n"
   ]
  },
  {
   "cell_type": "code",
   "execution_count": null,
   "id": "125d323f",
   "metadata": {},
   "outputs": [],
   "source": [
    "from langchain_community.document_loaders import JSONLoader \n",
    "\n",
    "json_loader = JSONLoader(\n",
    "    file_path=\"./data/kakao_chat.json\",\n",
    "    jq_schema=\".messages[].content\",    # messages 배열의 content 필드만 추출\n",
    "    text_content=True,                  # 추출하려는 필드가 텍스트인지 여부\n",
    ")\n",
    "\n",
    "json_docs = json_loader.load()\n",
    "\n",
    "print(\"문서의 수:\", len(json_docs))\n",
    "print(\"-\" * 50)\n",
    "print(\"처음 문서의 메타데이터: \\n\", json_docs[0].metadata['seq_num'])\n",
    "print(\"-\" * 50)\n",
    "print(\"처음 문서의 내용: \\n\", json_docs[0].page_content)"
   ]
  },
  {
   "cell_type": "code",
   "execution_count": null,
   "id": "3b6004a6",
   "metadata": {},
   "outputs": [],
   "source": [
    "from langchain_community.document_loaders import JSONLoader\n",
    "\n",
    "json_loader = JSONLoader(\n",
    "    file_path=\"./data/kakao_chat.json\",\n",
    "    jq_schema=\".messages[]\",     # messages 배열의 모든 아이템을 추출\n",
    "    text_content=False,          # 추출하려는 필드가 텍스트인지 여부\n",
    ")\n",
    "\n",
    "json_docs = json_loader.load()\n",
    "\n",
    "print(\"문서의 수:\", len(json_docs))\n",
    "print(\"-\" * 50)\n",
    "print(\"처음 문서의 메타데이터: \\n\", json_docs[0].metadata['seq_num'])\n",
    "print(\"-\" * 50)\n",
    "print(\"처음 문서의 내용: \\n\", json_docs[0].page_content)"
   ]
  },
  {
   "cell_type": "code",
   "execution_count": null,
   "id": "f46dd93e",
   "metadata": {},
   "outputs": [],
   "source": [
    "# 실제 입력 데이터 확인\n",
    "print(json_docs[4].page_content)  # 실제 JSON 문자열 확인"
   ]
  },
  {
   "cell_type": "code",
   "execution_count": null,
   "id": "6eafd1fb",
   "metadata": {},
   "outputs": [],
   "source": [
    "# 유니코드 디코딩 (한글 문자들이 유니코드 이스케이프 시퀀스로 인코딩되어 있음)\n",
    "from langchain_core.documents import Document\n",
    "\n",
    "decoded_json_docs = []\n",
    "for doc in json_docs:\n",
    "\n",
    "    decoded_data = json.loads(doc.page_content)\n",
    "    document_obj = Document(page_content=json.dumps(decoded_data, ensure_ascii=False), metadata=doc.metadata)\n",
    "    decoded_json_docs.append(document_obj)\n",
    "\n",
    "print(\"문서의 수:\", len(decoded_json_docs))\n",
    "print(\"-\" * 50)\n",
    "print(\"처음 문서의 메타데이터: \\n\", decoded_json_docs[0].metadata['seq_num'])\n",
    "print(\"-\" * 50)\n",
    "print(\"처음 문서의 내용: \\n\", decoded_json_docs[0].page_content)\n"
   ]
  },
  {
   "cell_type": "code",
   "execution_count": null,
   "id": "32253193",
   "metadata": {},
   "outputs": [],
   "source": [
    "# JSONL 파일 로드하기\n",
    "json_loader = JSONLoader(\n",
    "    file_path=\"./data/kakao_chat.jsonl\",\n",
    "    jq_schema=\".content\",\n",
    "    json_lines=True,\n",
    ")\n",
    "\n",
    "json_docs = json_loader.load()\n",
    "\n",
    "print(\"문서의 수:\", len(json_docs))\n",
    "print(\"-\" * 50)\n",
    "print(\"처음 문서의 메타데이터: \\n\", json_docs[0].metadata['seq_num'])\n",
    "print(\"-\" * 50)\n",
    "print(\"처음 문서의 내용: \\n\", json_docs[0].page_content)\n"
   ]
  },
  {
   "cell_type": "code",
   "execution_count": null,
   "id": "9335e1f3",
   "metadata": {},
   "outputs": [],
   "source": [
    "# JSONL 파일 로드하기\n",
    "json_loader = JSONLoader(\n",
    "    file_path=\"./data/kakao_chat.jsonl\",\n",
    "    jq_schema=\".\",\n",
    "    content_key=\"content\",\n",
    "    json_lines=True,\n",
    ")\n",
    "\n",
    "json_docs = json_loader.load()\n",
    "\n",
    "print(\"문서의 수:\", len(json_docs))\n",
    "print(\"-\" * 50)\n",
    "print(\"처음 문서의 메타데이터: \\n\", json_docs[0].metadata['seq_num'])\n",
    "print(\"-\" * 50)\n",
    "print(\"처음 문서의 내용: \\n\", json_docs[0].page_content)\n"
   ]
  },
  {
   "cell_type": "markdown",
   "id": "c4ece336",
   "metadata": {},
   "source": [
    "### 4. **CSV 파일 로더**\n"
   ]
  },
  {
   "cell_type": "code",
   "execution_count": null,
   "id": "ba7a8b7e",
   "metadata": {},
   "outputs": [],
   "source": [
    "from langchain_community.document_loaders.csv_loader import CSVLoader\n",
    "\n",
    "# 기본 파일 로드\n",
    "csv_loader = CSVLoader(\"./data/kbo_teams_2023.csv\")\n",
    "csv_docs = csv_loader.load()\n",
    "\n",
    "print(\"문서의 수:\", len(csv_docs))\n",
    "print(\"-\" * 50)\n",
    "print(\"처음 문서의 메타데이터: \\n\", csv_docs[0].metadata)\n",
    "print(\"-\" * 50)\n",
    "print(\"처음 문서의 내용: \\n\", csv_docs[0].page_content)"
   ]
  },
  {
   "cell_type": "code",
   "execution_count": null,
   "id": "ceadae63",
   "metadata": {},
   "outputs": [],
   "source": [
    "## CSV 파싱 커스터마이징\n",
    "\n",
    "csv_loader = CSVLoader(\n",
    "    file_path=\"./data/kbo_teams_2023.csv\",\n",
    "    csv_args={\n",
    "        \"delimiter\": \",\",               # 구분자 지정\n",
    "        \"quotechar\": '\"',               # 따옴표 문자 지정\n",
    "    }\n",
    ")\n",
    "\n",
    "csv_docs = csv_loader.load()\n",
    "\n",
    "print(\"문서의 수:\", len(csv_docs))\n",
    "print(\"-\" * 50)\n",
    "print(\"처음 문서의 메타데이터: \\n\", csv_docs[0].metadata)\n",
    "print(\"-\" * 50)\n",
    "print(\"처음 문서의 내용: \\n\", csv_docs[0].page_content)"
   ]
  },
  {
   "cell_type": "code",
   "execution_count": null,
   "id": "ca2a8e27",
   "metadata": {},
   "outputs": [],
   "source": [
    "## 소스 컬럼 지정\n",
    "\n",
    "csv_loader = CSVLoader(\n",
    "    file_path=\"./data/kbo_teams_2023.csv\",\n",
    "    source_column=\"Team\"  # 이 컬럼의 값이 메타데이터의 source로 사용됨\n",
    ")\n",
    "\n",
    "csv_docs = csv_loader.load()\n",
    "\n",
    "print(\"문서의 수:\", len(csv_docs))\n",
    "print(\"-\" * 50)\n",
    "print(\"처음 문서의 메타데이터: \\n\", csv_docs[0].metadata)\n",
    "print(\"-\" * 50)\n",
    "print(\"처음 문서의 내용: \\n\", csv_docs[0].page_content)"
   ]
  },
  {
   "cell_type": "markdown",
   "id": "b7dc0190",
   "metadata": {},
   "source": [
    "### 5. **Directory 로더**\n",
    "- 개요: 디렉토리에서 파일들을 읽어 Document 객체로 변환\n",
    "- 기능: \n",
    "    1. 파일시스템 탐색 (와일드카드 패턴 지원)\n",
    "    2. 멀티스레딩을 통한 파일 I/O\n",
    "    3. 인코딩 오류 등의 예외 처리"
   ]
  },
  {
   "cell_type": "code",
   "execution_count": null,
   "id": "6897cf78",
   "metadata": {},
   "outputs": [],
   "source": [
    "from langchain_community.document_loaders import DirectoryLoader\n",
    "from langchain_community.document_loaders import TextLoader\n",
    "\n",
    "# 기본 사용법\n",
    "dir_loader = DirectoryLoader(\n",
    "    path=\"./\",              # 파일 경로 - 현재 디렉토리\n",
    "    glob=\"**/*_KR.txt\",     # 파일 확장자 - txt 파일만 로드\n",
    "    loader_cls=TextLoader,  # TextLoader, CSVLoader, UnstructuredFileLoader 등 지원 \n",
    "    )\n",
    "dir_docs = dir_loader.load()\n",
    "\n",
    "print(\"문서의 수:\", len(dir_docs))\n",
    "print(\"-\" * 50)\n",
    "print(\"처음 문서의 메타데이터: \\n\", dir_docs[0].metadata)\n",
    "print(\"-\" * 50)\n",
    "print(\"처음 문서의 내용: \\n\", dir_docs[0].page_content)"
   ]
  },
  {
   "cell_type": "code",
   "execution_count": null,
   "id": "af16eaea",
   "metadata": {},
   "outputs": [],
   "source": [
    "## 진행 상태바 표시\n",
    "dir_loader = DirectoryLoader(\n",
    "    path=\"./\",              # 파일 경로 - 현재 디렉토리\n",
    "    glob=\"**/*_KR.txt\",     # 파일 확장자 - txt 파일만 로드\n",
    "    loader_cls=TextLoader,  # TextLoader, CSVLoader, UnstructuredFileLoader 등 지원 \n",
    "    show_progress=True,     # 진행 상태바 표시\n",
    "    )\n",
    "dir_docs = dir_loader.load()"
   ]
  },
  {
   "cell_type": "markdown",
   "id": "a81033a3",
   "metadata": {},
   "source": [
    "# [실습 프로젝트]\n",
    "\n",
    "- PDF 파일(articles/notionai.pdf)을 로드합니다. \n",
    "- 로드된 문서의 개수와 각 문서의 텍스트 길이를 출력합니다. "
   ]
  },
  {
   "cell_type": "code",
   "execution_count": null,
   "id": "3623e7b1",
   "metadata": {},
   "outputs": [],
   "source": [
    "# 여기에 코드를 작성하세요."
   ]
  }
 ],
 "metadata": {
  "kernelspec": {
   "display_name": "modu-01-YKUqNpBc-py3.12",
   "language": "python",
   "name": "python3"
  },
  "language_info": {
   "codemirror_mode": {
    "name": "ipython",
    "version": 3
   },
   "file_extension": ".py",
   "mimetype": "text/x-python",
   "name": "python",
   "nbconvert_exporter": "python",
   "pygments_lexer": "ipython3",
   "version": "3.12.2"
  }
 },
 "nbformat": 4,
 "nbformat_minor": 5
}
