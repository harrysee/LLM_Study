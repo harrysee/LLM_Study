{
  "cells": [
    {
      "cell_type": "markdown",
      "id": "5191c96c",
      "metadata": {},
      "source": [
        "#  RAG의 기본 개념 / 문서 전처리 과정의 이해\n",
        "\n",
        "### **학습 목표:**  RAG 아키텍처를 이해하고  전체 파이프라인을 설계할 수 있다\n",
        "\n",
        "---"
      ]
    },
    {
      "cell_type": "markdown",
      "id": "8bfd9328",
      "metadata": {
        "id": "8bfd9328"
      },
      "source": [
        "# 환경 설정 및 준비"
      ]
    },
    {
      "cell_type": "code",
      "execution_count": null,
      "id": "15ac3ddb",
      "metadata": {
        "id": "15ac3ddb"
      },
      "outputs": [],
      "source": [
        "from dotenv import load_dotenv\n",
        "load_dotenv()"
      ]
    },
    {
      "cell_type": "markdown",
      "id": "fdeade29",
      "metadata": {},
      "source": [
        "# RAG (Retrieval-Augmented Generation)\n",
        "\n",
        "1. **RAG란**?\n",
        "\n",
        "    - RAG는 기존 LLM의 한계를 보완하기 위한 방법론\n",
        "    - 외부 데이터를 검색하여 LLM의 지식을 보강하는 방식으로 동작 (기존의 언어 모델에 검색 기능을 추가)\n",
        "    - 최신 정보나 특정 도메인의 전문 지식을 활용 가능\n",
        "    - 주어진 질문이나 문제에 대해 더 정확하고 풍부한 정보를 기반으로 답변을 생성\n",
        "\n",
        "2. **RAG의 장점**\n",
        "    - 환각(Hallucination) 감소\n",
        "    - 최신 정보 반영 가능\n",
        "    - 도메인 특화된 응답 생성\n",
        "    - 소스 추적 가능성 확보\n",
        "\n",
        "3. **핵심 구성요소**\n",
        "\n",
        "    1. 검색(Retrieval) 시스템\n",
        "        - 임베딩 모델: 텍스트를 벡터로 변환\n",
        "        - 벡터 데이터베이스: 임베딩 벡터를 저장 (인덱싱)\n",
        "        - 유사도 검색 알고리즘:\n",
        "            * Cosine Similarity\n",
        "            * Euclidean Distance\n",
        "            * Dot Product\n",
        "\n",
        "    2. 증강(Augmentation)\n",
        "        - 검색된 문서의 전처리 \n",
        "        - 프롬프트 엔지니어링 기법\n",
        "        - 컨텍스트 길이 제한 관리\n",
        "\n",
        "    3. 생성(Generation) 단계\n",
        "        - LLM의 기본 동작으로 응답 생성 \n",
        "        - 응답 형식 제어 \n",
        "\n",
        "___"
      ]
    },
    {
      "cell_type": "markdown",
      "id": "df0b8a80",
      "metadata": {},
      "source": [
        "### Step 1: **Indexing**\n",
        "\n",
        "1. 문서 수집 및 전처리\n",
        "2. 문서 청크 분할\n",
        "3. 임베딩 생성\n",
        "4. 벡터 저장소 구축\n",
        "\n",
        "![RAG Indexing](https://python.langchain.com/assets/images/rag_indexing-8160f90a90a33253d0154659cf7d453f.png \"RAG - Indexing\")"
      ]
    },
    {
      "cell_type": "markdown",
      "id": "8c403906",
      "metadata": {},
      "source": [
        "`1. 문서 데이터 로드(Load Data)`\n",
        "\n",
        "- RAG에 사용할 데이터를 불러오는 단계 (검색에 사용될 지식이나 정보)\n",
        "- 외부 데이터 소스에서 정보를 수집하고, 필요한 형식으로 변환하여 시스템에 로드\n",
        "\n",
        "- 설치: pip install langchain_community beautifulsoup4 또는 uv add langchain_community beautifulsoup4"
      ]
    },
    {
      "cell_type": "code",
      "execution_count": null,
      "id": "f4400cfd",
      "metadata": {},
      "outputs": [],
      "source": [
        "# Data Loader - 웹페이지 데이터 가져오기\n",
        "from langchain_community.document_loaders import WebBaseLoader  # type: ignore\n",
        "\n",
        "# 위키피디아 정책과 지침\n",
        "url = 'https://ko.wikipedia.org/wiki/%EC%9C%84%ED%82%A4%EB%B0%B1%EA%B3%BC:%EC%A0%95%EC%B1%85%EA%B3%BC_%EC%A7%80%EC%B9%A8'\n",
        "loader = WebBaseLoader(url)\n",
        "\n",
        "# 웹페이지 텍스트 -> Document 객체로 변환\n",
        "docs = loader.load() \n",
        "\n",
        "# 결과 확인\n",
        "print(f\"Document 개수: {len(docs)}\")\n",
        "print(f\"Document 길이: {len(docs[0].page_content)}\")\n",
        "print(f\"Document 내용: {docs[0].page_content[5000:6000]}\")"
      ]
    },
    {
      "cell_type": "code",
      "execution_count": null,
      "id": "480c341f",
      "metadata": {},
      "outputs": [],
      "source": [
        "docs[0] # Document 객체 확인"
      ]
    },
    {
      "cell_type": "code",
      "execution_count": null,
      "id": "732391b4",
      "metadata": {},
      "outputs": [],
      "source": [
        "docs[0].metadata # Document의 메타데이터 확인"
      ]
    },
    {
      "cell_type": "code",
      "execution_count": null,
      "id": "f97bde0a",
      "metadata": {},
      "outputs": [],
      "source": [
        "docs[0].page_content # Document의 페이지 내용 확인"
      ]
    },
    {
      "cell_type": "markdown",
      "id": "dac3839e",
      "metadata": {},
      "source": [
        "`2. 문서 청크 분할(Split Texts)`\n",
        "\n",
        "- 불러온 데이터를 작은 크기의 단위(chunk)로 분할하는 과정\n",
        "- 자연어 처리(NLP) 기술을 활용하여 큰 문서를 처리가 쉽도록 문단, 문장 또는 구 단위로 나누는 작업\n",
        "- 검색 효율성을 높이기 위한 중요한 과정\n",
        "\n",
        "    1. 청크 크기 선택\n",
        "        - 너무 작은 청크: 문맥 손실\n",
        "        - 너무 큰 청크: 관련성 저하\n",
        "\n",
        "    2. 중복 영역 설정\n",
        "        - 문맥 유지를 위해 필요\n",
        "        - 일반적으로 10-20% 권장\n",
        "\n",
        "- 설치: pip install langchain_text_splitters 또는 uv add langchain_text_splitters"
      ]
    },
    {
      "cell_type": "code",
      "execution_count": null,
      "id": "0a7570f0",
      "metadata": {},
      "outputs": [],
      "source": [
        "# Text Split (Documents -> small chunks: Documents)\n",
        "from langchain_text_splitters import CharacterTextSplitter  # type: ignore\n",
        "\n",
        "# 1000자씩 잘라서 200자씩 겹치는 Document로 변환\n",
        "text_splitter = CharacterTextSplitter(\n",
        "    separator=\"\\n\\n\",    # 문단 구분자\n",
        "    chunk_size=1000,     # 문단 길이\n",
        "    chunk_overlap=200,   # 겹치는 길이\n",
        "    length_function=len, # 길이 측정 함수\n",
        "    is_separator_regex=False,   # separator가 정규식인지 여부\n",
        ")\n",
        "\n",
        "splitted_docs = text_splitter.split_documents(docs)\n",
        "\n",
        "# 결과 확인\n",
        "print(f\"Document 개수: {len(splitted_docs)}\")\n",
        "print(\"\\n\\n\")\n",
        "\n",
        "for i, doc in enumerate(splitted_docs):\n",
        "    print(f\"Document {i} 길이: {len(doc.page_content)}\")\n",
        "    print(f\"Document {i} 내용: {doc.page_content[:100]}...\")\n",
        "    print(\"-\"*50)"
      ]
    },
    {
      "cell_type": "code",
      "execution_count": null,
      "id": "99b8d579",
      "metadata": {},
      "outputs": [],
      "source": [
        "# 글자 수 기준으로 엄격하게 분할하기 \n",
        "from langchain_text_splitters import CharacterTextSplitter  # type: ignore\n",
        "\n",
        "# 1000자씩 잘라서 Document로 변환\n",
        "text_splitter = CharacterTextSplitter(\n",
        "    separator=\"\",        # 문단 구분자\n",
        "    chunk_size=1000,     # 문단 길이\n",
        "    length_function=len, # 길이 측정 함수\n",
        "    is_separator_regex=False,   # separator가 정규식인지 여부\n",
        ")\n",
        "\n",
        "equally_splitted_docs = text_splitter.split_documents(docs)\n",
        "\n",
        "# 결과 확인\n",
        "print(f\"Document 개수: {len(equally_splitted_docs)}\")\n",
        "print(\"\\n\\n\")\n",
        "\n",
        "for i, doc in enumerate(equally_splitted_docs):\n",
        "    print(f\"Document {i} 길이: {len(doc.page_content)}\")\n",
        "    print(\"-\"*50)"
      ]
    },
    {
      "cell_type": "markdown",
      "id": "756fb49b",
      "metadata": {},
      "source": [
        "`3. 문서 임베딩 생성(Document Embeddings)`\n",
        "\n",
        "- 임베딩 모델을 사용하여 텍스트를 벡터로 변환\n",
        "- 임베딩을 기반으로 유사성 검색에 사용\n",
        "- 임베딩 모델 선택\n",
        "   - 성능과 비용 고려\n",
        "   - 다국어 지원 여부 확인"
      ]
    },
    {
      "cell_type": "code",
      "execution_count": null,
      "id": "d55cc5cc",
      "metadata": {},
      "outputs": [],
      "source": [
        "# OpenAI Embeddings - 문장 임베딩\n",
        "\n",
        "from langchain_openai import OpenAIEmbeddings  # type: ignore\n",
        "\n",
        "# embedding model 생성\n",
        "embedding_model = OpenAIEmbeddings(\n",
        "    model=\"text-embedding-3-small\",  # 사용할 모델 이름을 지정 가능 \n",
        ")\n",
        "\n",
        "sample_text = \"위키피디아 정책 변경 절차를 알려주세요\"\n",
        "embedding_vector = embedding_model.embed_query(sample_text)\n",
        "print(f\"임베딩 벡터의 차원: {len(embedding_vector)}\")\n",
        "print(f\"임베딩 벡터: {embedding_vector[:10]}...\")"
      ]
    },
    {
      "cell_type": "markdown",
      "id": "d3d059b6",
      "metadata": {},
      "source": [
        "`4. 벡터 저장소 구축 (Vectorstores)`\n",
        "\n",
        "- 임베딩 벡터를 벡터저장소에 저장 \n",
        "- 저장된 임베딩을 기반으로 유사성 검색을 수행하는데 활용 "
      ]
    },
    {
      "cell_type": "code",
      "execution_count": null,
      "id": "eb372a6b",
      "metadata": {},
      "outputs": [],
      "source": [
        "# In-memory 벡터 저장소에 문서 저장하기\n",
        "from langchain_core.vectorstores import InMemoryVectorStore # type: ignore\n",
        "vector_store = InMemoryVectorStore(embedding_model)\n",
        "\n",
        "# Document를 VectorStore에 저장\n",
        "document_ids = vector_store.add_documents(splitted_docs)\n",
        "\n",
        "# 결과 확인\n",
        "print(f\"저장된 Document 개수: {len(document_ids)}\")"
      ]
    },
    {
      "cell_type": "code",
      "execution_count": null,
      "id": "17d4dca8",
      "metadata": {},
      "outputs": [],
      "source": [
        "print(f\"저장된 Document ID: {document_ids[:5]}...\")"
      ]
    },
    {
      "cell_type": "code",
      "execution_count": null,
      "id": "5b0898df",
      "metadata": {},
      "outputs": [],
      "source": [
        "vector_store.store.keys() # 저장된 Document ids 확인"
      ]
    },
    {
      "cell_type": "code",
      "execution_count": null,
      "id": "c3f59187",
      "metadata": {},
      "outputs": [],
      "source": [
        "# VectorStore에 저장된 Document 개수 확인\n",
        "print(f\"VectorStore에 저장된 Document 개수: {len(vector_store.store.keys())}\")"
      ]
    },
    {
      "cell_type": "code",
      "execution_count": null,
      "id": "5656276e",
      "metadata": {},
      "outputs": [],
      "source": [
        "# 문서 삭제하기\n",
        "vector_store.delete(ids=list(vector_store.store.keys())[:1])\n",
        "\n",
        "# VectorStore에 저장된 Document 개수 확인\n",
        "print(f\"VectorStore에 저장된 Document 개수: {len(vector_store.store.keys())}\")"
      ]
    },
    {
      "cell_type": "markdown",
      "id": "c83b15db",
      "metadata": {},
      "source": [
        "### Step 2: **Retrieval and generation**\n",
        "\n",
        "5. 검색 및 생성\n",
        "\n",
        "![RAG Retrieval and generation](https://python.langchain.com/assets/images/rag_retrieval_generation-1046a4668d6bb08786ef73c56d4f228a.png \"RAG - Retrieval and generation\")"
      ]
    },
    {
      "cell_type": "code",
      "execution_count": null,
      "id": "0861f71e",
      "metadata": {},
      "outputs": [],
      "source": [
        "# 벡터 스토어 문서 검색 - 유사도 기반 검색\n",
        "\n",
        "search_query = \"위키피디아 정책 변경 절차를 알려주세요\"\n",
        "\n",
        "results = vector_store.similarity_search(query=search_query, k=2)\n",
        "for doc in results:\n",
        "    print(f\"* {doc.page_content} [{doc.metadata}]\")\n",
        "    print(\"-\"*50)"
      ]
    },
    {
      "cell_type": "code",
      "execution_count": null,
      "id": "a6b6264b",
      "metadata": {},
      "outputs": [],
      "source": [
        "# 벡터 스토어 검색기 설정 - 유사도 기반 검색\n",
        "\n",
        "retriever = vector_store.as_retriever(\n",
        "    search_type=\"similarity\",\n",
        "    search_kwargs={\"k\": 2},\n",
        ")\n",
        "\n",
        "# 검색기로 검색하기\n",
        "results = retriever.invoke(input=search_query)\n",
        "\n",
        "# 결과 확인\n",
        "for doc in results:\n",
        "    print(f\"* {doc.page_content} [{doc.metadata}]\")\n",
        "    print(\"-\"*50)"
      ]
    },
    {
      "cell_type": "code",
      "execution_count": null,
      "id": "1cc900bb",
      "metadata": {},
      "outputs": [],
      "source": [
        "# QA 체인 구성\n",
        "from langchain.chains import RetrievalQA   # type: ignore\n",
        "from langchain_openai import ChatOpenAI    # type: ignore\n",
        "\n",
        "qa_chain = RetrievalQA.from_chain_type(\n",
        "    llm=ChatOpenAI(model=\"gpt-4.1-mini\"),\n",
        "    chain_type=\"stuff\",\n",
        "    retriever=retriever,\n",
        ")\n",
        "\n",
        "# 질문 응답\n",
        "query = \"위키피디아 정책 변경 절차를 알려주세요\"\n",
        "response = qa_chain.invoke(query)\n",
        "\n",
        "# 결과 확인\n",
        "print(f\"Q: {response['query']}\")\n",
        "print(f\"A: {response['result']}\")"
      ]
    },
    {
      "cell_type": "markdown",
      "id": "429b3424",
      "metadata": {},
      "source": [
        "# [실습 프로젝트]"
      ]
    },
    {
      "cell_type": "markdown",
      "id": "daa70566",
      "metadata": {},
      "source": [
        "### RAG 파이프라인 구축하기\n",
        "\n",
        "1. 데이터 준비 → 텍스트 처리 → 임베딩 → 검색 → 평가\n",
        "2. 각 과제마다 구현해야 할 함수와 결과물 정의\n",
        "3. 단위 테스트를 통한 검증"
      ]
    },
    {
      "cell_type": "code",
      "execution_count": null,
      "id": "3139bce1",
      "metadata": {},
      "outputs": [],
      "source": [
        "# 1단계: 데이터 준비 - 웹문서 검색을 위해 관련 URL 가져오기\n",
        "web_urls = [\n",
        "    \"https://n.news.naver.com/mnews/article/029/0002927209\",\n",
        "    \"https://n.news.naver.com/mnews/article/092/0002358620\",\n",
        "    \"https://n.news.naver.com/mnews/article/008/0005136824\",\n",
        "]"
      ]
    },
    {
      "cell_type": "code",
      "execution_count": null,
      "id": "0f2c3059",
      "metadata": {},
      "outputs": [],
      "source": [
        "# 2단계: WebBaseLoader를 사용해 텍스트 로드\n",
        "pass"
      ]
    },
    {
      "cell_type": "code",
      "execution_count": null,
      "id": "11501e9b",
      "metadata": {},
      "outputs": [],
      "source": [
        "# 3단계: CharacterTextSplitter로 문서 분할\n",
        "pass"
      ]
    },
    {
      "cell_type": "code",
      "execution_count": null,
      "id": "2cc0b235",
      "metadata": {},
      "outputs": [],
      "source": [
        "# 4단계: 임베딩 및 벡터 저장소 구현\n",
        "pass"
      ]
    },
    {
      "cell_type": "code",
      "execution_count": null,
      "id": "9d8b091d",
      "metadata": {},
      "outputs": [],
      "source": [
        "# 5단계: RAG 기반 QA 체인 구현\n",
        "pass"
      ]
    },
    {
      "cell_type": "code",
      "execution_count": null,
      "id": "24cb7c92",
      "metadata": {},
      "outputs": [],
      "source": [
        "# 6단계: QA 체인으로 질문 응답\n",
        "pass"
      ]
    }
  ],
  "metadata": {
    "colab": {
      "provenance": []
    },
    "kernelspec": {
      "display_name": ".venv",
      "language": "python",
      "name": "python3"
    },
    "language_info": {
      "codemirror_mode": {
        "name": "ipython",
        "version": 3
      },
      "file_extension": ".py",
      "mimetype": "text/x-python",
      "name": "python",
      "nbconvert_exporter": "python",
      "pygments_lexer": "ipython3",
      "version": "3.12.2"
    }
  },
  "nbformat": 4,
  "nbformat_minor": 5
}
